{
 "cells": [
  {
   "cell_type": "code",
   "execution_count": null,
   "id": "2301bbef",
   "metadata": {
    "vscode": {
     "languageId": "plaintext"
    }
   },
   "outputs": [],
   "source": [
    "%cd /workspace/\n",
    "\n",
    "!git clone https://github.com/comfyanonymous/ComfyUI\n",
    "\n",
    "%cd /workspace/ComfyUI/custom_nodes/\n",
    "\n",
    "!git clone https://github.com/Comfy-Org/ComfyUI-Manager\n",
    "\n",
    "%cd /workspace/ComfyUI/custom_nodes/ComfyUI-Manager/\n",
    "\n",
    "!pip install -r requirements.txt"
   ]
  },
  {
   "cell_type": "code",
   "execution_count": null,
   "id": "e43820f7",
   "metadata": {
    "vscode": {
     "languageId": "plaintext"
    }
   },
   "outputs": [],
   "source": [
    "%cd /workspace/ComfyUI/\n",
    "\n",
    "!pip install -r requirements.txt\n",
    "!python3 main.py --listen 0.0.0.0 --port 3000 --fast"
   ]
  }
 ],
 "metadata": {
  "language_info": {
   "name": "python"
  }
 },
 "nbformat": 4,
 "nbformat_minor": 5
}
