{
 "cells": [
  {
   "cell_type": "code",
   "execution_count": null,
   "id": "8c70f5e6",
   "metadata": {},
   "outputs": [],
   "source": [
    "# Make Sure to install most perfect version for ComfyUI-Miaoshouai-Tagger"
   ]
  },
  {
   "cell_type": "code",
   "execution_count": null,
   "id": "a7472fe8-709f-44ac-abe6-37757d8817e6",
   "metadata": {},
   "outputs": [],
   "source": [
    "!pip install transformers==4.38.2 --upgrade\n",
    "!pip install tokenizers==0.15.2 --upgrade\n",
    "!pip install accelerate==0.27.2 --upgrade"
   ]
  },
  {
   "cell_type": "code",
   "execution_count": null,
   "id": "e3721ef8",
   "metadata": {
    "vscode": {
     "languageId": "plaintext"
    }
   },
   "outputs": [],
   "source": [
    "%cd /workspace/ComfyUI/models/\n",
    "\n",
    "# UNET / diffusion model\n",
    "!wget -O unet/qwen_image_edit_fp8_e4m3fn.safetensors \\\n",
    "https://huggingface.co/Comfy-Org/Qwen-Image-Edit_ComfyUI/resolve/main/split_files/diffusion_models/qwen_image_edit_fp8_e4m3fn.safetensors\n",
    "\n",
    "# LoRA\n",
    "!wget -O loras/lenovoqwen.safetensors \\\n",
    "https://huggingface.co/Danrisi/Lenovo_Qwen/resolve/main/lenovo.safetensors\n",
    "\n",
    "# Lightning LoRA\n",
    "!wget -O loras/Qwen-Image-Lightning-4steps-V1.0.safetensors \\\n",
    "https://huggingface.co/lightx2v/Qwen-Image-Lightning/resolve/main/Qwen-Image-Lightning-4steps-V1.0.safetensors\n",
    "\n",
    "# CLIP / Text Encoder\n",
    "!wget -O clip/qwen_2.5_vl_7b_fp8_scaled.safetensors \\\n",
    "https://huggingface.co/Comfy-Org/Qwen-Image_ComfyUI/resolve/main/split_files/text_encoders/qwen_2.5_vl_7b_fp8_scaled.safetensors\n",
    "\n",
    "# VAE\n",
    "!wget -O vae/qwen_image_vae.safetensors \\\n",
    "https://huggingface.co/f5aiteam/VAE/resolve/main/qwen_image_vae.safetensors\n",
    "\n",
    "# Upscalers\n",
    "!wget -O upscale_models/1xSkinContrast-High-SuperUltraCompact.pth \\\n",
    "https://huggingface.co/notkenski/upscalers/resolve/main/1xSkinContrast-High-SuperUltraCompact.pth\n",
    "\n",
    "!wget -O upscale_models/RealESRGAN_x2plus.pth \\\n",
    "https://huggingface.co/nateraw/real-esrgan/resolve/main/RealESRGAN_x2plus.pth\n"
   ]
  },
  {
   "cell_type": "code",
   "execution_count": null,
   "id": "39891ee0-bfaf-452d-b4a4-e4def662ad68",
   "metadata": {},
   "outputs": [],
   "source": []
  }
 ],
 "metadata": {
  "kernelspec": {
   "display_name": "Python 3 (ipykernel)",
   "language": "python",
   "name": "python3"
  },
  "language_info": {
   "codemirror_mode": {
    "name": "ipython",
    "version": 3
   },
   "file_extension": ".py",
   "mimetype": "text/x-python",
   "name": "python",
   "nbconvert_exporter": "python",
   "pygments_lexer": "ipython3",
   "version": "3.11.10"
  }
 },
 "nbformat": 4,
 "nbformat_minor": 5
}
