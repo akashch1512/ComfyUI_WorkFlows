{
 "cells": [
  {
   "cell_type": "code",
   "execution_count": null,
   "id": "8c70f5e6",
   "metadata": {},
   "outputs": [],
   "source": [
    "# Make Sure to install most perfect version for ComfyUI-Miaoshouai-Tagger"
   ]
  },
  {
   "cell_type": "code",
   "execution_count": null,
   "id": "427ed90b-1edb-4fd2-9267-1f0b118b04bb",
   "metadata": {},
   "outputs": [],
   "source": [
    "%cd /workspace/\n",
    "!python3 run_comfy.py"
   ]
  },
  {
   "cell_type": "code",
   "execution_count": null,
   "id": "a7472fe8-709f-44ac-abe6-37757d8817e6",
   "metadata": {},
   "outputs": [],
   "source": [
    "!pip install transformers==4.38.2 --upgrade\n",
    "!pip install tokenizers==0.15.2 --upgrade\n",
    "!pip install accelerate==0.27.2 --upgrade"
   ]
  },
  {
   "cell_type": "code",
   "execution_count": 8,
   "id": "16717f32-feae-4b3e-a459-6158bda8894d",
   "metadata": {},
   "outputs": [
    {
     "name": "stdout",
     "output_type": "stream",
     "text": [
      "/workspace/ComfyUI/custom_nodes\n",
      "Cloning into 'ComfyUI-KJNodes'...\n",
      "remote: Enumerating objects: 3491, done.\u001b[K\n",
      "remote: Counting objects: 100% (1556/1556), done.\u001b[K\n",
      "remote: Compressing objects: 100% (293/293), done.\u001b[K\n",
      "remote: Total 3491 (delta 1366), reused 1286 (delta 1263), pack-reused 1935 (from 2)\u001b[K\n",
      "Receiving objects: 100% (3491/3491), 24.93 MiB | 25.37 MiB/s, done.\n",
      "Resolving deltas: 100% (2401/2401), done.\n",
      "[Errno 2] No such file or directory: '/workspace/ComfyUI/custom_nodes/ComyUI-KJNodes'\n",
      "/workspace/ComfyUI/custom_nodes\n"
     ]
    }
   ],
   "source": [
    "%cd /workspace/ComfyUI/custom_nodes/\n",
    "\n",
    "!git clone https://github.com/kijai/ComfyUI-KJNodes\n",
    "\n",
    "%cd /workspace/ComfyUI/custom_nodes/ComfyUI-KJNodes/\n",
    "!pip install -r requirements.txt\n",
    "\n",
    "!pip install hf_transfer"
   ]
  },
  {
   "cell_type": "code",
   "execution_count": 13,
   "id": "f037b615-033a-46a3-b9c4-f233a3cd1384",
   "metadata": {},
   "outputs": [
    {
     "name": "stdout",
     "output_type": "stream",
     "text": [
      "Collecting hf_transfer\n",
      "  Downloading hf_transfer-0.1.9-cp38-abi3-manylinux_2_17_x86_64.manylinux2014_x86_64.whl.metadata (1.7 kB)\n",
      "Downloading hf_transfer-0.1.9-cp38-abi3-manylinux_2_17_x86_64.manylinux2014_x86_64.whl (3.6 MB)\n",
      "\u001b[2K   \u001b[90m━━━━━━━━━━━━━━━━━━━━━━━━━━━━━━━━━━━━━━━━\u001b[0m \u001b[32m3.6/3.6 MB\u001b[0m \u001b[31m65.2 MB/s\u001b[0m  \u001b[33m0:00:00\u001b[0m\n",
      "\u001b[?25hInstalling collected packages: hf_transfer\n",
      "Successfully installed hf_transfer-0.1.9\n"
     ]
    }
   ],
   "source": [
    "!pip install hf_transfer"
   ]
  },
  {
   "cell_type": "code",
   "execution_count": null,
   "id": "e3721ef8",
   "metadata": {
    "vscode": {
     "languageId": "plaintext"
    }
   },
   "outputs": [],
   "source": [
    "%cd /workspace/ComfyUI/models/\n",
    "\n",
    "# UNET / diffusion model\n",
    "!wget -O unet/qwen_image_edit_fp8_e4m3fn.safetensors \\\n",
    "https://huggingface.co/Comfy-Org/Qwen-Image-Edit_ComfyUI/resolve/main/split_files/diffusion_models/qwen_image_edit_fp8_e4m3fn.safetensors\n",
    "\n",
    "# LoRA\n",
    "!wget -O loras/lenovoqwen.safetensors \\\n",
    "https://huggingface.co/Danrisi/Lenovo_Qwen/resolve/main/lenovo.safetensors\n",
    "\n",
    "# Lightning LoRA\n",
    "!wget -O loras/Qwen-Image-Lightning-4steps-V1.0.safetensors \\\n",
    "https://huggingface.co/lightx2v/Qwen-Image-Lightning/resolve/main/Qwen-Image-Lightning-4steps-V1.0.safetensors\n",
    "\n",
    "# CLIP / Text Encoder\n",
    "!wget -O clip/qwen_2.5_vl_7b_fp8_scaled.safetensors \\\n",
    "https://huggingface.co/Comfy-Org/Qwen-Image_ComfyUI/resolve/main/split_files/text_encoders/qwen_2.5_vl_7b_fp8_scaled.safetensors\n",
    "\n",
    "# VAE\n",
    "!wget -O vae/qwen_image_vae.safetensors \\\n",
    "https://huggingface.co/f5aiteam/VAE/resolve/main/qwen_image_vae.safetensors\n",
    "\n",
    "# Upscalers\n",
    "!wget -O upscale_models/1xSkinContrast-High-SuperUltraCompact.pth \\\n",
    "https://huggingface.co/notkenski/upscalers/resolve/main/1xSkinContrast-High-SuperUltraCompact.pth\n",
    "\n",
    "!wget -O upscale_models/RealESRGAN_x2plus.pth \\\n",
    "https://huggingface.co/nateraw/real-esrgan/resolve/main/RealESRGAN_x2plus.pth\n"
   ]
  },
  {
   "cell_type": "code",
   "execution_count": null,
   "id": "e4b3b2bd-cafd-4713-b03d-2e3f869706e0",
   "metadata": {},
   "outputs": [],
   "source": [
    "!pip install --upgrade gdown\n",
    "!gdown --fuzzy \"https://drive.google.com/file/d/1YDtCoXfAOgMyF3aPf0D5Vy_XQij3QTKo/view?usp=sharing\" -O /workspace/ComfyUI/models/loras/"
   ]
  },
  {
   "cell_type": "code",
   "execution_count": null,
   "id": "39891ee0-bfaf-452d-b4a4-e4def662ad68",
   "metadata": {},
   "outputs": [],
   "source": []
  }
 ],
 "metadata": {
  "kernelspec": {
   "display_name": "Python 3 (ipykernel)",
   "language": "python",
   "name": "python3"
  },
  "language_info": {
   "codemirror_mode": {
    "name": "ipython",
    "version": 3
   },
   "file_extension": ".py",
   "mimetype": "text/x-python",
   "name": "python",
   "nbconvert_exporter": "python",
   "pygments_lexer": "ipython3",
   "version": "3.12.3"
  }
 },
 "nbformat": 4,
 "nbformat_minor": 5
}
