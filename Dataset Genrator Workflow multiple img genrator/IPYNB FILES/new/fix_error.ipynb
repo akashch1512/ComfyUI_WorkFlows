{
 "cells": [
  {
   "cell_type": "code",
   "execution_count": null,
   "id": "1aed8251-07bd-4d99-ab72-f11b0786bea7",
   "metadata": {},
   "outputs": [],
   "source": [
    "# import os\n",
    "# import sys\n",
    "\n",
    "# comfy_base_dir = \"/workspace/ComfyUI\" \n",
    "# llm_path = os.path.join(comfy_base_dir, \"models\", \"LLM\")\n",
    "\n",
    "# if llm_path not in sys.path:\n",
    "#     sys.path.append(llm_path)\n",
    "    \n",
    "# cache_path = os.path.expanduser(\"~/.cache/huggingface/modules\")\n",
    "# if cache_path not in sys.path:\n",
    "#     sys.path.append(cache_path)\n",
    "\n",
    "# print(\"---Florence-2 Tagger Path Fix Applied---\")"
   ]
  },
  {
   "cell_type": "code",
   "execution_count": null,
   "id": "a5ec62b8",
   "metadata": {
    "vscode": {
     "languageId": "plaintext"
    }
   },
   "outputs": [],
   "source": [
    "!pip install tokenizers==0.15.2 --upgrade\n",
    "!pip install accelerate==0.27.2 --upgrade\n",
    "!pip install transformers==4.48.1"
   ]
  },
  {
   "cell_type": "code",
   "execution_count": null,
   "id": "394c0b01",
   "metadata": {
    "vscode": {
     "languageId": "plaintext"
    }
   },
   "outputs": [],
   "source": [
    "# # 1. Navigate to the base ComfyUI directory (adjust if necessary)\n",
    "# # Example: cd /workspace/ComfyUI/\n",
    "\n",
    "# # 2. Create the LLM model directory if it doesn't exist\n",
    "# !mkdir -p models/LLM\n",
    "\n",
    "# # 3. Navigate into the LLM directory\n",
    "# %cd models/LLM\n",
    "\n",
    "# # 4. Use git to clone the Florence-2 model repository directly.\n",
    "# # This ensures the model files are placed in the EXACT required folder structure \n",
    "# # (models/LLM/Florence-2-large-PromptGen-v2.0) which resolves the Python module error.\n",
    "# !git clone https://huggingface.co/MiaoshouAI/Florence-2-large-PromptGen-v2.0\n",
    "\n",
    "# # 5. Return to the ComfyUI base directory\n",
    "# %cd ../../\n",
    "\n",
    "# # 6. Re-run your fixed dependency installation (just to be safe)\n",
    "# !pip install transformers==4.38.2 --upgrade\n",
    "# !pip install tokenizers==0.15.2 --upgrade"
   ]
  },
  {
   "cell_type": "code",
   "execution_count": null,
   "id": "fd33eeb0-f009-4b33-b566-94e4d95463f3",
   "metadata": {},
   "outputs": [],
   "source": [
    "!apt-get update && apt-get install -y git-lfs\n",
    "!git lfs install"
   ]
  },
  {
   "cell_type": "code",
   "execution_count": null,
   "id": "d4281f8e-7191-42b7-8541-dd5984c65f5b",
   "metadata": {},
   "outputs": [],
   "source": [
    "%cd /workspace/ComfyUI/custom_nodes/ComfyUI-Miaoshouai-Tagger\n",
    "!git pull\n",
    "%cd ../../"
   ]
  },
  {
   "cell_type": "code",
   "execution_count": null,
   "id": "5bec9818-c656-4a40-b679-f9b3ed682530",
   "metadata": {},
   "outputs": [],
   "source": [
    "!pip install timm"
   ]
  },
  {
   "cell_type": "code",
   "execution_count": null,
   "id": "82b3d4be-eeb7-482c-92bc-ab8772afca0e",
   "metadata": {},
   "outputs": [],
   "source": [
    "!pip install transformers==4.48.1\n",
    "# or try 4.47.0 if 4.48.1 still causes issues"
   ]
  },
  {
   "cell_type": "code",
   "execution_count": 13,
   "id": "50801d72-39eb-4981-852c-8ef1977bb46c",
   "metadata": {},
   "outputs": [
    {
     "name": "stdout",
     "output_type": "stream",
     "text": [
      "/workspace/ComfyUI/custom_nodes/efficiency-nodes-comfyui\n",
      "remote: Enumerating objects: 1, done.\u001b[K\n",
      "remote: Counting objects: 100% (1/1), done.\u001b[K\n",
      "remote: Total 1 (delta 0), reused 0 (delta 0), pack-reused 0 (from 0)\u001b[K\n",
      "Unpacking objects: 100% (1/1), 906 bytes | 906.00 KiB/s, done.\n",
      "From https://github.com/comfyanonymous/ComfyUI\n",
      "   08726b64..bbd68309  master     -> origin/master\n",
      "Updating 08726b64..bbd68309\n",
      "Fast-forward\n",
      " README.md | 26 \u001b[32m+++++++++++++++++++\u001b[m\u001b[31m-------\u001b[m\n",
      " 1 file changed, 19 insertions(+), 7 deletions(-)\n"
     ]
    }
   ],
   "source": [
    "%cd /workspace/ComfyUI/custom_nodes/efficiency-nodes-comfyui\n",
    "!git pull"
   ]
  },
  {
   "cell_type": "code",
   "execution_count": null,
   "id": "90bd0ce9-b1f4-4a05-aa56-fc73a1456b7a",
   "metadata": {},
   "outputs": [],
   "source": []
  }
 ],
 "metadata": {
  "kernelspec": {
   "display_name": "Python 3 (ipykernel)",
   "language": "python",
   "name": "python3"
  },
  "language_info": {
   "codemirror_mode": {
    "name": "ipython",
    "version": 3
   },
   "file_extension": ".py",
   "mimetype": "text/x-python",
   "name": "python",
   "nbconvert_exporter": "python",
   "pygments_lexer": "ipython3",
   "version": "3.12.3"
  }
 },
 "nbformat": 4,
 "nbformat_minor": 5
}
