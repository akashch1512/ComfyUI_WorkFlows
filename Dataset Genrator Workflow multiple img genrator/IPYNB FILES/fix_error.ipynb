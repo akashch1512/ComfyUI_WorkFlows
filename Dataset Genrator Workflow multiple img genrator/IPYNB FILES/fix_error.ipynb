{
 "cells": [
  {
   "cell_type": "code",
   "execution_count": null,
   "id": "a5ec62b8",
   "metadata": {
    "vscode": {
     "languageId": "plaintext"
    }
   },
   "outputs": [],
   "source": [
    "!pip install transformers==4.38.2 --upgrade\n",
    "!pip install tokenizers==0.15.2 --upgrade\n",
    "!pip install accelerate==0.27.2 --upgrade\n",
    "\n",
    "\n",
    "%cd ComfyUI/custom_nodes/ComfyUI-Miaoshouai-Tagger\n",
    "!git pull\n",
    "%cd ../../\n",
    "\n",
    "import os\n",
    "import sys\n",
    "\n",
    "comfy_base_dir = \"/workspace/ComfyUI\" \n",
    "llm_path = os.path.join(comfy_base_dir, \"models\", \"LLM\")\n",
    "\n",
    "if llm_path not in sys.path:\n",
    "    sys.path.append(llm_path)\n",
    "    \n",
    "cache_path = os.path.expanduser(\"~/.cache/huggingface/modules\")\n",
    "if cache_path not in sys.path:\n",
    "    sys.path.append(cache_path)\n",
    "\n",
    "print(\"---Florence-2 Tagger Path Fix Applied---\")"
   ]
  },
  {
   "cell_type": "code",
   "execution_count": null,
   "id": "394c0b01",
   "metadata": {
    "vscode": {
     "languageId": "plaintext"
    }
   },
   "outputs": [],
   "source": [
    "# 1. Navigate to the base ComfyUI directory (adjust if necessary)\n",
    "# Example: cd /workspace/ComfyUI/\n",
    "\n",
    "# 2. Create the LLM model directory if it doesn't exist\n",
    "!mkdir -p models/LLM\n",
    "\n",
    "# 3. Navigate into the LLM directory\n",
    "%cd models/LLM\n",
    "\n",
    "# 4. Use git to clone the Florence-2 model repository directly.\n",
    "# This ensures the model files are placed in the EXACT required folder structure \n",
    "# (models/LLM/Florence-2-large-PromptGen-v2.0) which resolves the Python module error.\n",
    "!git clone https://huggingface.co/MiaoshouAI/Florence-2-large-PromptGen-v2.0\n",
    "\n",
    "# 5. Return to the ComfyUI base directory\n",
    "%cd ../../\n",
    "\n",
    "# 6. Re-run your fixed dependency installation (just to be safe)\n",
    "!pip install transformers==4.38.2 --upgrade\n",
    "!pip install tokenizers==0.15.2 --upgrade"
   ]
  }
 ],
 "metadata": {
  "language_info": {
   "name": "python"
  }
 },
 "nbformat": 4,
 "nbformat_minor": 5
}
