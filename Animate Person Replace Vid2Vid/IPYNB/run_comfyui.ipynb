{
 "cells": [
  {
   "cell_type": "code",
   "execution_count": null,
   "id": "2301bbef",
   "metadata": {
    "vscode": {
     "languageId": "plaintext"
    }
   },
   "outputs": [],
   "source": [
    "%cd /workspace/\n",
    "\n",
    "!git clone https://github.com/comfyanonymous/ComfyUI\n",
    "\n",
    "!pip install -r requirements.txt\n",
    "\n",
    "%cd /workspace/ComfyUI/custom_nodes/\n",
    "\n",
    "!git clone https://github.com/Comfy-Org/ComfyUI-Manager\n",
    "\n",
    "%cd /workspace/ComfyUI/custom_nodes/ComfyUI-Manager/\n",
    "\n",
    "!pip install -r requirements.txt"
   ]
  },
  {
   "cell_type": "code",
   "execution_count": null,
   "id": "e43820f7",
   "metadata": {
    "vscode": {
     "languageId": "plaintext"
    }
   },
   "outputs": [],
   "source": [
    "%cd /workspace/ComfyUI/\n",
    "\n",
    "!pip install -r requirements.txt\n",
    "!python3 main.py --listen 0.0.0.0 --port 3000 --fast"
   ]
  },
  {
   "cell_type": "code",
   "execution_count": null,
   "id": "5b29331c-7f5a-4214-bf4b-422efc65fbd4",
   "metadata": {},
   "outputs": [],
   "source": []
  }
 ],
 "metadata": {
  "kernelspec": {
   "display_name": "Python 3 (ipykernel)",
   "language": "python",
   "name": "python3"
  },
  "language_info": {
   "codemirror_mode": {
    "name": "ipython",
    "version": 3
   },
   "file_extension": ".py",
   "mimetype": "text/x-python",
   "name": "python",
   "nbconvert_exporter": "python",
   "pygments_lexer": "ipython3",
   "version": "3.11.10"
  }
 },
 "nbformat": 4,
 "nbformat_minor": 5
}
